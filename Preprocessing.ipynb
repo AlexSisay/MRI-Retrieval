{
 "cells": [
  {
   "cell_type": "markdown",
   "id": "12b2ac07",
   "metadata": {},
   "source": [
    "# Preprocessing our Raw images"
   ]
  },
  {
   "cell_type": "code",
   "execution_count": null,
   "id": "9cb33cb1",
   "metadata": {},
   "outputs": [],
   "source": [
    "\"\"\"\n",
    "Created on Mon Nov 22, 2022\n",
    "\n",
    "@author: Alemu Sisay\n",
    "\"\"\""
   ]
  },
  {
   "cell_type": "code",
   "execution_count": 2,
   "id": "e23f75c4",
   "metadata": {},
   "outputs": [],
   "source": [
    "#loading ML dependancies\n",
    "import matplotlib.pyplot as plt\n",
    "from matplotlib import pyplot, image, transforms\n",
    "from scipy import ndimage\n",
    "\n",
    "import pandas as pd\n",
    "import numpy as np\n",
    "from nibabel.testing import data_path\n",
    "import os\n",
    "import nibabel as nib\n",
    "from tqdm import tqdm\n",
    "from nilearn.image import resample_img\n",
    "import nibabel as nb\n",
    "import SimpleITK as sitk\n",
    "\n",
    "\n",
    "from nipype.interfaces.slicer.filtering.n4itkbiasfieldcorrection import N4ITKBiasFieldCorrection\n",
    "from nipype import Node, Workflow\n",
    "from nipype.interfaces.ants import N4BiasFieldCorrection\n",
    "#Registration\n",
    "from nipype.interfaces import fsl\n",
    "from nipype.testing import example_data\n",
    "#Skull stripping\n",
    "from nipype.interfaces.fsl import BET\n",
    "#Normalization\n",
    "import nipype.interfaces.spm as spm"
   ]
  },
  {
   "cell_type": "code",
   "execution_count": null,
   "id": "c80aedc5",
   "metadata": {},
   "outputs": [],
   "source": []
  },
  {
   "cell_type": "code",
   "execution_count": 3,
   "id": "02df7b89",
   "metadata": {},
   "outputs": [],
   "source": [
    "Raw_AD = []\n",
    "Raw_CN = []\n",
    "Raw_MCI = []\n",
    "for subdir,dirs,files in os.walk('/Users/alex/Documents/Thesis/Jupyter/Test/Raw/AD'):\n",
    "    for file in files:\n",
    "        filepath = subdir + os.sep + file\n",
    "        if not '.DS_Store' in filepath:    \n",
    "            Raw_AD.append(filepath)\n",
    "for subdir,dirs,files in os.walk('/Users/alex/Documents/Thesis/Jupyter/Test/Raw/CN'):\n",
    "    for file in files:\n",
    "        filepath = subdir + os.sep + file\n",
    "        if not '.DS_Store' in filepath:    \n",
    "            Raw_CN.append(filepath)\n",
    "for subdir,dirs,files in os.walk('/Users/alex/Documents/Thesis/Jupyter/Test/Raw/MCI'):\n",
    "    for file in files:\n",
    "        filepath = subdir + os.sep + file\n",
    "        if not '.DS_Store' in filepath:    \n",
    "            Raw_MCI.append(filepath)            "
   ]
  },
  {
   "cell_type": "code",
   "execution_count": 4,
   "id": "ec2afb79",
   "metadata": {},
   "outputs": [
    {
     "data": {
      "text/html": [
       "<div>\n",
       "<style scoped>\n",
       "    .dataframe tbody tr th:only-of-type {\n",
       "        vertical-align: middle;\n",
       "    }\n",
       "\n",
       "    .dataframe tbody tr th {\n",
       "        vertical-align: top;\n",
       "    }\n",
       "\n",
       "    .dataframe thead th {\n",
       "        text-align: right;\n",
       "    }\n",
       "</style>\n",
       "<table border=\"1\" class=\"dataframe\">\n",
       "  <thead>\n",
       "    <tr style=\"text-align: right;\">\n",
       "      <th></th>\n",
       "      <th>Raw_AD</th>\n",
       "      <th>Raw_CN</th>\n",
       "      <th>Raw_MCI</th>\n",
       "    </tr>\n",
       "  </thead>\n",
       "  <tbody>\n",
       "    <tr>\n",
       "      <th>0</th>\n",
       "      <td>/Users/alex/Documents/Thesis/Jupyter/Test/Raw/...</td>\n",
       "      <td>/Users/alex/Documents/Thesis/Jupyter/Test/Raw/...</td>\n",
       "      <td>/Users/alex/Documents/Thesis/Jupyter/Test/Raw/...</td>\n",
       "    </tr>\n",
       "    <tr>\n",
       "      <th>1</th>\n",
       "      <td>/Users/alex/Documents/Thesis/Jupyter/Test/Raw/...</td>\n",
       "      <td>/Users/alex/Documents/Thesis/Jupyter/Test/Raw/...</td>\n",
       "      <td>/Users/alex/Documents/Thesis/Jupyter/Test/Raw/...</td>\n",
       "    </tr>\n",
       "    <tr>\n",
       "      <th>2</th>\n",
       "      <td>/Users/alex/Documents/Thesis/Jupyter/Test/Raw/...</td>\n",
       "      <td>/Users/alex/Documents/Thesis/Jupyter/Test/Raw/...</td>\n",
       "      <td>/Users/alex/Documents/Thesis/Jupyter/Test/Raw/...</td>\n",
       "    </tr>\n",
       "    <tr>\n",
       "      <th>3</th>\n",
       "      <td>/Users/alex/Documents/Thesis/Jupyter/Test/Raw/...</td>\n",
       "      <td>/Users/alex/Documents/Thesis/Jupyter/Test/Raw/...</td>\n",
       "      <td>/Users/alex/Documents/Thesis/Jupyter/Test/Raw/...</td>\n",
       "    </tr>\n",
       "    <tr>\n",
       "      <th>4</th>\n",
       "      <td>/Users/alex/Documents/Thesis/Jupyter/Test/Raw/...</td>\n",
       "      <td>/Users/alex/Documents/Thesis/Jupyter/Test/Raw/...</td>\n",
       "      <td>/Users/alex/Documents/Thesis/Jupyter/Test/Raw/...</td>\n",
       "    </tr>\n",
       "  </tbody>\n",
       "</table>\n",
       "</div>"
      ],
      "text/plain": [
       "                                              Raw_AD  \\\n",
       "0  /Users/alex/Documents/Thesis/Jupyter/Test/Raw/...   \n",
       "1  /Users/alex/Documents/Thesis/Jupyter/Test/Raw/...   \n",
       "2  /Users/alex/Documents/Thesis/Jupyter/Test/Raw/...   \n",
       "3  /Users/alex/Documents/Thesis/Jupyter/Test/Raw/...   \n",
       "4  /Users/alex/Documents/Thesis/Jupyter/Test/Raw/...   \n",
       "\n",
       "                                              Raw_CN  \\\n",
       "0  /Users/alex/Documents/Thesis/Jupyter/Test/Raw/...   \n",
       "1  /Users/alex/Documents/Thesis/Jupyter/Test/Raw/...   \n",
       "2  /Users/alex/Documents/Thesis/Jupyter/Test/Raw/...   \n",
       "3  /Users/alex/Documents/Thesis/Jupyter/Test/Raw/...   \n",
       "4  /Users/alex/Documents/Thesis/Jupyter/Test/Raw/...   \n",
       "\n",
       "                                             Raw_MCI  \n",
       "0  /Users/alex/Documents/Thesis/Jupyter/Test/Raw/...  \n",
       "1  /Users/alex/Documents/Thesis/Jupyter/Test/Raw/...  \n",
       "2  /Users/alex/Documents/Thesis/Jupyter/Test/Raw/...  \n",
       "3  /Users/alex/Documents/Thesis/Jupyter/Test/Raw/...  \n",
       "4  /Users/alex/Documents/Thesis/Jupyter/Test/Raw/...  "
      ]
     },
     "execution_count": 4,
     "metadata": {},
     "output_type": "execute_result"
    }
   ],
   "source": [
    "#creating a dataframe for ease of use..\n",
    "data=pd.DataFrame({'Raw_AD':Raw_AD, 'Raw_CN':Raw_CN, 'Raw_MCI':Raw_MCI})\n",
    "data.head()"
   ]
  },
  {
   "cell_type": "code",
   "execution_count": null,
   "id": "9d1d076a",
   "metadata": {},
   "outputs": [],
   "source": []
  },
  {
   "cell_type": "code",
   "execution_count": 5,
   "id": "e549074e",
   "metadata": {},
   "outputs": [],
   "source": [
    "ref_parent = '/Users/alex/Documents/Thesis/AAL3'\n",
    "ref_path = os.path.join(ref_parent, \"MNI152_T1_1mm.nii.gz\")\n"
   ]
  },
  {
   "cell_type": "code",
   "execution_count": 6,
   "id": "12c0b0ac",
   "metadata": {},
   "outputs": [],
   "source": [
    "import tempfile\n",
    "\n",
    "temp_dir1 = tempfile.TemporaryDirectory(dir = '/Users/alex/Documents/Thesis')\n",
    "temp_dir2 = tempfile.TemporaryDirectory(dir = '/Users/alex/Documents/Thesis')\n",
    "temp_dir3 = tempfile.TemporaryDirectory(dir = '/Users/alex/Documents/Thesis')\n"
   ]
  },
  {
   "cell_type": "code",
   "execution_count": 7,
   "id": "8a375b28",
   "metadata": {},
   "outputs": [],
   "source": [
    "def create_dir(path):\n",
    "    if not os.path.isdir(path):\n",
    "        os.makedirs(path)\n",
    "    return\n"
   ]
  },
  {
   "cell_type": "code",
   "execution_count": 8,
   "id": "54204e0a",
   "metadata": {},
   "outputs": [],
   "source": [
    "parent_dir = '/Users/alex/Documents/Thesis/Jupyter/Test'\n",
    "data_labels = [\"AD\", \"CN\",\"MCI\"]\n",
    "for label in data_labels:\n",
    "    dst_final_dir1 = os.path.join(parent_dir,'Preprocessed', label)\n",
    "    create_dir(dst_final_dir1)"
   ]
  },
  {
   "cell_type": "code",
   "execution_count": 9,
   "id": "173fe060",
   "metadata": {},
   "outputs": [],
   "source": [
    "path=os.path.join(parent_dir,'Preprocessed')"
   ]
  },
  {
   "cell_type": "code",
   "execution_count": 16,
   "id": "437a5b73",
   "metadata": {},
   "outputs": [],
   "source": [
    "parent_dir = '/Users/alex/Documents/Thesis/Jupyter/Test'\n",
    "data_labels = [\"AD\", \"CN\",\"MCI\"]\n",
    "for label in data_labels:\n",
    "    dst_label_dir1 = os.path.join(temp_dir1.name, label)\n",
    "    dst_label_dir2 = os.path.join(temp_dir2.name, label)\n",
    "    dst_label_dir3 = os.path.join(temp_dir3.name, label)\n",
    "    dst_final_dir = os.path.join(parent_dir,'Preprocessed', label)\n",
    "    create_dir(dst_label_dir1)\n",
    "    create_dir(dst_label_dir2)\n",
    "    create_dir(dst_label_dir3)\n",
    "    create_dir(dst_final_dir)\n",
    "    "
   ]
  },
  {
   "cell_type": "code",
   "execution_count": null,
   "id": "a1baa238",
   "metadata": {},
   "outputs": [],
   "source": []
  },
  {
   "cell_type": "code",
   "execution_count": 25,
   "id": "33e1708e",
   "metadata": {},
   "outputs": [],
   "source": [
    "class preprocessing():\n",
    "    \"\"\"\n",
    "    Reorientation -> Registration -> Skull stripping -> Bias Correction -> Intensity Correction \n",
    "    \n",
    "    \"\"\"\n",
    "\n",
    "    def __init__(self,df):\n",
    "        self.data=df\n",
    "        self.biased_index_AD=[]\n",
    "        self.biased_index_CN=[]\n",
    "        self.biased_index_MCI=[]\n",
    "        self.biased_index=[]        \n",
    "    def create_dir(self, path):\n",
    "        if not os.path.isdir(path):\n",
    "            os.makedirs(path)\n",
    "        return\n",
    "    def reorient2std(self):\n",
    "        reorient = fsl.Reorient2Std()\n",
    "        for i in tqdm(range(len(self.data))):\n",
    "            for label in data_labels:\n",
    "                if label == 'AD':\n",
    "                    in_file = self.data.Raw_AD.iloc[i]\n",
    "                    out_file = temp_dir1.name + '/AD/' + str(i)+'.nii.gz'\n",
    "                elif label == 'CN':\n",
    "                    in_file = self.data.Raw_CN.iloc[i]\n",
    "                    out_file = temp_dir1.name + '/CN/' + str(i)+'.nii.gz'\n",
    "                else:\n",
    "                    in_file = self.data.Raw_MCI.iloc[i]\n",
    "                    out_file = temp_dir1.name + '/MCI/' + str(i)+'.nii.gz'\n",
    "                reorient.inputs.in_file = in_file              \n",
    "                reorient.inputs.out_file = out_file\n",
    "                res = reorient.run()     \n",
    "    def registration(self):\n",
    "        \"\"\"\n",
    "        Registration to MINI152 atlas image\n",
    "        Input: in_file -> input file\n",
    "               reference -> reference file\n",
    "        Output: out_file -> path/name of registered file \n",
    "        \"\"\"           \n",
    "        flt = fsl.FLIRT(bins=256, cost_func='corratio')\n",
    "        flt.inputs.reference = ref_path\n",
    "        flt.inputs.searchr_x = [0,0]\n",
    "        flt.inputs.searchr_y = [0,0]\n",
    "        flt.inputs.searchr_z = [0,0]\n",
    "        flt.inputs.dof = 12\n",
    "        flt.inputs.interp = \"spline\"\n",
    "        index_reg = []\n",
    "        for i in tqdm(range(len(self.data))):\n",
    "            for label in data_labels:\n",
    "                input_image = temp_dir1.name + '/'+label+'/' + str(i)+'.nii.gz'\n",
    "                output_image = temp_dir2.name + '/'+label+'/' + str(i)+'.nii.gz'\n",
    "                flt.inputs.in_file = input_image\n",
    "                flt.inputs.out_file = output_image\n",
    "                index_reg.append(output_image)\n",
    "                res = flt.run()\n",
    "        temp_dir1.cleanup()\n",
    "        print('Registration Done! \\n Registrated images stored at : ', temp_dir2.name ,'/')           \n",
    "    def Skull_stripping(self):\n",
    "        \"\"\"\n",
    "        Skull Stripping\n",
    "        input: in_file -> input file to skull strip\n",
    "               out_file ->  name of output skull stripped image\n",
    "               \n",
    "        Output: out_file -> path/name of skullstripped file (if generated)\n",
    "        \"\"\"\n",
    "        \n",
    "        btr = fsl.BET()\n",
    "        btr.inputs.frac = 0.5\n",
    "        btr.inputs.robust = True\n",
    "        btr.inputs.vertical_gradient = 0\n",
    "        for i in tqdm(range(len(self.data))):\n",
    "            for label in data_labels:\n",
    "                input_image = temp_dir2.name + '/'+label+'/' + str(i)+'.nii.gz'\n",
    "                output_image = temp_dir3.name + '/'+label+'/' + str(i)+'.nii.gz'\n",
    "                btr.inputs.in_file = input_image\n",
    "                btr.inputs.out_file = output_image\n",
    "                res = btr.run()\n",
    "        temp_dir2.cleanup()\n",
    "        print('Skull Stripping done! Images stored at: ', temp_dir3.name )\n",
    "    def bias_correction(self):\n",
    "        \"\"\"\n",
    "        Bias field correction: Corrects the bias using ANTs N4BiasFieldCorrection. \n",
    "\n",
    "        :param in_file: input file path\n",
    "        :param out_file: output file path\n",
    "        :param dimension: image dimension (2, 3 or 4)\n",
    "        :return: file path to the bias corrected image\n",
    "        For more optional parameters: https://github.com/nipy/nipype/blob/master/nipype/interfaces/ants/segmentation.py\n",
    "        \"\"\"\n",
    "        #!mkdir bias_correction\n",
    "        n4 = N4BiasFieldCorrection()\n",
    "        n4.inputs.dimension = 3\n",
    "        n4.inputs.shrink_factor = 3\n",
    "        n4.inputs.n_iterations = [100, 100, 60, 40]\n",
    "        n4.inputs.convergence_threshold = 1e-4\n",
    "        n4.inputs.bspline_fitting_distance = 300\n",
    "        biased_index,biased_index_AD,biased_index_CN,biased_index_MCI,pat1,pat2,pat3 =[],[], [],[],[],[],[]\n",
    "        for label in data_labels:\n",
    "            for i in tqdm(range(len(self.data))):\n",
    "                input_image = temp_dir3.name + '/'+label+'/' + str(i)+'.nii.gz'\n",
    "                output_image = path + '/'+label+'/' + str(i)+'_'+label +'.nii.gz'\n",
    "                if label == 'AD':\n",
    "                    pat1.append(path +'/'+label+'/' +str(i)+'_'+label +'.nii.gz')\n",
    "                elif label == 'CN':\n",
    "                    pat2.append(path +'/'+label+'/' +str(i)+'_'+label +'.nii.gz')                   \n",
    "                else:\n",
    "                    pat3.append(path +'/'+label+'/' +str(i)+'_'+label +'.nii.gz')\n",
    "                   \n",
    "                n4.inputs.input_image = input_image\n",
    "                n4.inputs.output_image = output_image\n",
    "                self.biased_index.append(output_image)         \n",
    "                res = n4.run()\n",
    "                \n",
    "        self.biased_index_AD= [pat1[i] for i in range(len(self.data))]\n",
    "        self.biased_index_CN= [pat2[i] for i in range(len(self.data))]\n",
    "        self.biased_index_MCI= [pat3[i] for i in range(len(self.data))]                  \n",
    "        print('Bias corrected images stored at : ',path)\n",
    "        temp_dir3.cleanup()\n",
    "        return self.biased_index_AD,self.biased_index_CN, self.biased_index_MCI\n",
    "    def intensity_normalization(self):\n",
    "        for label in data_labels:\n",
    "            if label == 'AD':\n",
    "                for i in tqdm(self.biased_index_AD):\n",
    "                    image = sitk.ReadImage(i)\n",
    "                    resacleFilter = sitk.RescaleIntensityImageFilter()\n",
    "                    resacleFilter.SetOutputMaximum(255)\n",
    "                    resacleFilter.SetOutputMinimum(0)\n",
    "                    image = resacleFilter.Execute(image)\n",
    "                    sitk.WriteImage(image,i)\n",
    "            elif label == 'CN':\n",
    "                for i in tqdm(self.biased_index_CN):\n",
    "                    image = sitk.ReadImage(i)\n",
    "                    resacleFilter = sitk.RescaleIntensityImageFilter()\n",
    "                    resacleFilter.SetOutputMaximum(255)\n",
    "                    resacleFilter.SetOutputMinimum(0)\n",
    "                    image = resacleFilter.Execute(image)\n",
    "                    sitk.WriteImage(image,i)\n",
    "            else:\n",
    "                for i in tqdm(self.biased_index_MCI):\n",
    "                    image = sitk.ReadImage(i)\n",
    "                    resacleFilter = sitk.RescaleIntensityImageFilter()\n",
    "                    resacleFilter.SetOutputMaximum(255)\n",
    "                    resacleFilter.SetOutputMinimum(0)\n",
    "                    image = resacleFilter.Execute(image)\n",
    "                    sitk.WriteImage(image,i)                    \n",
    "        print('Normalization done. Images stored at: ',path)\n",
    "        "
   ]
  },
  {
   "cell_type": "code",
   "execution_count": null,
   "id": "d33c633c",
   "metadata": {},
   "outputs": [],
   "source": []
  },
  {
   "cell_type": "code",
   "execution_count": 26,
   "id": "5a09aee1",
   "metadata": {},
   "outputs": [],
   "source": [
    "pre=preprocessing(data)"
   ]
  },
  {
   "cell_type": "code",
   "execution_count": 14,
   "id": "5a5e602e",
   "metadata": {},
   "outputs": [
    {
     "name": "stderr",
     "output_type": "stream",
     "text": [
      "100%|███████████████████████████████████████████| 13/13 [00:25<00:00,  1.94s/it]\n"
     ]
    }
   ],
   "source": [
    "pre.reorient2std()\n"
   ]
  },
  {
   "cell_type": "code",
   "execution_count": 21,
   "id": "8d8345eb",
   "metadata": {},
   "outputs": [
    {
     "name": "stderr",
     "output_type": "stream",
     "text": [
      "100%|██████████████████████████████████████████| 13/13 [26:33<00:00, 122.55s/it]"
     ]
    },
    {
     "name": "stdout",
     "output_type": "stream",
     "text": [
      "Registration Done! \n",
      " Registrated images stored at :  /Users/alex/Documents/Thesis/tmp8r447d8b /\n"
     ]
    },
    {
     "name": "stderr",
     "output_type": "stream",
     "text": [
      "\n"
     ]
    }
   ],
   "source": [
    "pre.registration()\n"
   ]
  },
  {
   "cell_type": "code",
   "execution_count": 24,
   "id": "4fac7ac8",
   "metadata": {},
   "outputs": [
    {
     "name": "stderr",
     "output_type": "stream",
     "text": [
      "100%|███████████████████████████████████████████| 13/13 [03:47<00:00, 17.51s/it]"
     ]
    },
    {
     "name": "stdout",
     "output_type": "stream",
     "text": [
      "Skull Stripping done! Images stored at:  /Users/alex/Documents/Thesis/tmpagm67ogt\n"
     ]
    },
    {
     "name": "stderr",
     "output_type": "stream",
     "text": [
      "\n"
     ]
    }
   ],
   "source": [
    "pre.Skull_stripping()"
   ]
  },
  {
   "cell_type": "code",
   "execution_count": 27,
   "id": "aeb00828",
   "metadata": {},
   "outputs": [
    {
     "name": "stderr",
     "output_type": "stream",
     "text": [
      "100%|███████████████████████████████████████████| 13/13 [12:07<00:00, 55.98s/it]\n",
      "100%|███████████████████████████████████████████| 13/13 [10:54<00:00, 50.35s/it]\n",
      "100%|███████████████████████████████████████████| 13/13 [16:23<00:00, 75.68s/it]"
     ]
    },
    {
     "name": "stdout",
     "output_type": "stream",
     "text": [
      "Bias corrected images stored at :  /Users/alex/Documents/Thesis/Jupyter/Test/Preprocessed\n"
     ]
    },
    {
     "name": "stderr",
     "output_type": "stream",
     "text": [
      "\n"
     ]
    }
   ],
   "source": [
    "biased_index_AD,biased_index_CN,biased_index_MCI = pre.bias_correction()\n"
   ]
  },
  {
   "cell_type": "code",
   "execution_count": 38,
   "id": "9a27284d",
   "metadata": {},
   "outputs": [
    {
     "name": "stderr",
     "output_type": "stream",
     "text": [
      "100%|███████████████████████████████████████████| 13/13 [00:06<00:00,  2.04it/s]\n",
      "100%|███████████████████████████████████████████| 13/13 [00:05<00:00,  2.32it/s]\n",
      "100%|███████████████████████████████████████████| 13/13 [00:05<00:00,  2.18it/s]"
     ]
    },
    {
     "name": "stdout",
     "output_type": "stream",
     "text": [
      "Normalization done. Images stored at:  /Users/alex/Documents/Thesis/Jupyter/Test/Preprocessed\n"
     ]
    },
    {
     "name": "stderr",
     "output_type": "stream",
     "text": [
      "\n"
     ]
    }
   ],
   "source": [
    "pre.intensity_normalization()"
   ]
  },
  {
   "cell_type": "code",
   "execution_count": 33,
   "id": "6a4873f1",
   "metadata": {},
   "outputs": [
    {
     "name": "stdout",
     "output_type": "stream",
     "text": [
      "ANTs not found\r\n"
     ]
    }
   ],
   "source": []
  },
  {
   "cell_type": "code",
   "execution_count": 31,
   "id": "39ed61a6",
   "metadata": {},
   "outputs": [],
   "source": []
  },
  {
   "cell_type": "code",
   "execution_count": null,
   "id": "95d45275",
   "metadata": {},
   "outputs": [],
   "source": []
  }
 ],
 "metadata": {
  "kernelspec": {
   "display_name": "Python 3 (ipykernel)",
   "language": "python",
   "name": "python3"
  },
  "language_info": {
   "codemirror_mode": {
    "name": "ipython",
    "version": 3
   },
   "file_extension": ".py",
   "mimetype": "text/x-python",
   "name": "python",
   "nbconvert_exporter": "python",
   "pygments_lexer": "ipython3",
   "version": "3.9.8"
  }
 },
 "nbformat": 4,
 "nbformat_minor": 5
}
